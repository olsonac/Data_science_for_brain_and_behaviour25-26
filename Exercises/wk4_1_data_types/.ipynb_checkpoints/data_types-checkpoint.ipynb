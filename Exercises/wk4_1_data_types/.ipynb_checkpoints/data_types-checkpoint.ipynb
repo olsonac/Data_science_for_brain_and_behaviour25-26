{
 "cells": [
  {
   "cell_type": "markdown",
   "id": "411a57c3",
   "metadata": {},
   "source": [
    "# Data, types, strings\n",
    "\n",
    "Here we explore types of things, and converting between them."
   ]
  },
  {
   "cell_type": "code",
   "execution_count": null,
   "id": "792a231c",
   "metadata": {},
   "outputs": [],
   "source": [
    "# Run this cell to set up the notebook, but please don't change it.\n",
    "# These lines load the tests.\n",
    "from client.api.notebook import Notebook\n",
    "ok = Notebook('data_types.ok')"
   ]
  },
  {
   "cell_type": "markdown",
   "id": "71976fc3",
   "metadata": {},
   "source": [
    "This is an integer (counting number):"
   ]
  },
  {
   "cell_type": "code",
   "execution_count": null,
   "id": "cb7f1b93",
   "metadata": {},
   "outputs": [],
   "source": [
    "# Run this cell\n",
    "a = 10"
   ]
  },
  {
   "cell_type": "markdown",
   "id": "75fa6a29",
   "metadata": {},
   "source": [
    "Use `type` to confirm that this is a value of `int` type:"
   ]
  },
  {
   "cell_type": "code",
   "execution_count": null,
   "id": "e0cfae6f",
   "metadata": {},
   "outputs": [],
   "source": [
    "..."
   ]
  },
  {
   "cell_type": "code",
   "execution_count": null,
   "id": "6570f3da",
   "metadata": {},
   "outputs": [],
   "source": [
    "_ = ok.grade('q_type_int')"
   ]
  },
  {
   "cell_type": "markdown",
   "id": "9475ca52",
   "metadata": {},
   "source": [
    "This is a floating point number."
   ]
  },
  {
   "cell_type": "code",
   "execution_count": null,
   "id": "eea3fbb8",
   "metadata": {},
   "outputs": [],
   "source": [
    "b = 1.1"
   ]
  },
  {
   "cell_type": "markdown",
   "id": "9b96c71b",
   "metadata": {},
   "source": [
    "Use `type` to confirm that this is a value of `float` type:"
   ]
  },
  {
   "cell_type": "code",
   "execution_count": null,
   "id": "a0a673e9",
   "metadata": {},
   "outputs": [],
   "source": [
    "..."
   ]
  },
  {
   "cell_type": "code",
   "execution_count": null,
   "id": "64fc4c62",
   "metadata": {},
   "outputs": [],
   "source": [
    "_ = ok.grade('q_type_float')"
   ]
  },
  {
   "cell_type": "markdown",
   "id": "9070872c",
   "metadata": {},
   "source": [
    "This is a string:"
   ]
  },
  {
   "cell_type": "code",
   "execution_count": null,
   "id": "07a13510",
   "metadata": {},
   "outputs": [],
   "source": [
    "c = \"some text\""
   ]
  },
  {
   "cell_type": "markdown",
   "id": "9f7e3aa7",
   "metadata": {},
   "source": [
    "Use `type` to confirm that this is a value of `str` type:"
   ]
  },
  {
   "cell_type": "code",
   "execution_count": null,
   "id": "e66b1fe1",
   "metadata": {},
   "outputs": [],
   "source": [
    "..."
   ]
  },
  {
   "cell_type": "code",
   "execution_count": null,
   "id": "3a3e23e7",
   "metadata": {},
   "outputs": [],
   "source": [
    "_ = ok.grade('q_type_string')"
   ]
  },
  {
   "cell_type": "markdown",
   "id": "2256c391",
   "metadata": {},
   "source": [
    "Show what you get when you use the 'float' function to convert the value in `a` into a float."
   ]
  },
  {
   "cell_type": "code",
   "execution_count": null,
   "id": "ea426ecb",
   "metadata": {},
   "outputs": [],
   "source": [
    "..."
   ]
  },
  {
   "cell_type": "markdown",
   "id": "6b425253",
   "metadata": {},
   "source": [
    "What happens if you use `int` to convert `b` to an integer?"
   ]
  },
  {
   "cell_type": "code",
   "execution_count": null,
   "id": "ea2f8980",
   "metadata": {},
   "outputs": [],
   "source": [
    "..."
   ]
  },
  {
   "cell_type": "markdown",
   "id": "40288d17",
   "metadata": {},
   "source": [
    "What happens if you use `str` to convert `b` to an string?"
   ]
  },
  {
   "cell_type": "code",
   "execution_count": null,
   "id": "a7ff8e3e",
   "metadata": {},
   "outputs": [],
   "source": [
    "..."
   ]
  },
  {
   "cell_type": "markdown",
   "id": "668f1546",
   "metadata": {},
   "source": [
    "What happens if you use `float` to convert `c` into a floating point value?"
   ]
  },
  {
   "cell_type": "code",
   "execution_count": null,
   "id": "ec9c25eb",
   "metadata": {
    "tags": [
     "raises-exception"
    ]
   },
   "outputs": [],
   "source": [
    "..."
   ]
  },
  {
   "cell_type": "markdown",
   "id": "289767b8",
   "metadata": {},
   "source": [
    "Now, if you have time - make new code cells below and try the following\n",
    "operations.  To make a new cell, go to the \"Insert\" item on the menu, and\n",
    "choose \"Insert Cell Below\" (or \"Above\").\n",
    "\n",
    "Try these operations in a new cell each.   What do you see?\n",
    "\n",
    "* `a + b`\n",
    "* `a + c`\n",
    "* `b + c`\n",
    "\n",
    "Now try converting `a`, `b`, `c` to Boolean (True / False) values with the\n",
    "`bool` function.\n",
    "\n",
    "Try converting a Boolean value to `int`, `float` and `str`."
   ]
  }
 ],
 "metadata": {
  "jupytext": {
   "split_at_heading": true,
   "text_representation": {
    "extension": ".Rmd",
    "format_name": "rmarkdown",
    "format_version": "1.2",
    "jupytext_version": "1.10.3"
   }
  },
  "kernelspec": {
   "display_name": "Python 3 (ipykernel)",
   "language": "python",
   "name": "python3"
  }
 },
 "nbformat": 4,
 "nbformat_minor": 5
}
